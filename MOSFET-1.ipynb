{
 "cells": [
  {
   "cell_type": "markdown",
   "id": "e79f2fb6-a5a6-4bd6-8b9e-6f3344cd729e",
   "metadata": {},
   "source": [
    "# Digital Twin with Python\n",
    "\n",
    "### Dr. Tirthajyoti Sarkar\n",
    "\n",
    "---"
   ]
  },
  {
   "cell_type": "code",
   "execution_count": 1,
   "id": "c86c66db-8cc5-424f-bc9d-7e79e920dea8",
   "metadata": {},
   "outputs": [],
   "source": [
    "import tensorflow as tf, numpy as np, matplotlib.pyplot as plt\n",
    "from nn import *\n",
    "import pandas as pd"
   ]
  },
  {
   "cell_type": "code",
   "execution_count": 2,
   "id": "31addb0d-bd18-4450-91bb-995b3a74315d",
   "metadata": {},
   "outputs": [],
   "source": [
    "def sub_vth(w_l,vgs,vth,temp=300):\n",
    "    \"\"\"\n",
    "    Helper function to calculate sub-vth current analytically.\n",
    "    \n",
    "    Uses randomized parameters to mimic \n",
    "    measurement noise and manufacturing/material variability\n",
    "    \"\"\"\n",
    "    # Electron charge\n",
    "    q = 1.60218e-19\n",
    "    # Boltzman constant\n",
    "    k = 1.3806e-23\n",
    "    # Capacitance factor (randomized to mimic manufacturing variability)\n",
    "    eta = 1.2+0.01*np.random.normal()\n",
    "    # Mobility factor/coefficient (randomized to mimic material and manufacturing variability)\n",
    "    w_l = w_l*(1+0.01*np.random.normal())\n",
    "    \n",
    "    return w_l*np.exp(q*(vgs-vth)/(eta*k*temp))"
   ]
  },
  {
   "cell_type": "code",
   "execution_count": 3,
   "id": "353f91d2-cbd4-425b-8e8c-9990c8d9e277",
   "metadata": {},
   "outputs": [],
   "source": [
    "class MOSFET:\n",
    "    def __init__(self,params=None,terminals=None):\n",
    "        \n",
    "        # Params\n",
    "        if params is None:\n",
    "            self._params_ = {'BV':20,\n",
    "                             'Vth':1.0,\n",
    "                             'gm':1e-2}\n",
    "        else:\n",
    "            self._params_ = params\n",
    "        \n",
    "        # Terminals\n",
    "        if terminals is None:\n",
    "            self._terminals_ = {'source':0.0,\n",
    "                        'drain':0.0,\n",
    "                        'gate':0.0}\n",
    "        else:\n",
    "            self._terminals_ = terminals\n",
    "        \n",
    "        # Determine state\n",
    "        self._state_ = self.determine_state()\n",
    "        \n",
    "        # Leakage model trained?\n",
    "        self._leakage_ = False\n",
    "        self.leakage_model = None\n",
    "    \n",
    "    def __repr__(self):\n",
    "        return \"Digital Twin of a MOSFET\"\n",
    "    \n",
    "    def determine_state(self,vgs=None):\n",
    "        \"\"\"\n",
    "        \"\"\"\n",
    "        if vgs is None:\n",
    "            vgs = self._terminals_['gate'] - self._terminals_['source']\n",
    "        else:\n",
    "            vgs = vgs\n",
    "        if vgs > self._params_['Vth']:\n",
    "            return 'ON'\n",
    "        else:\n",
    "            return 'OFF'\n",
    "    \n",
    "    def id_vd(self,vgs=None,vds=None,rounding=True):\n",
    "        \"\"\"\n",
    "        Calculates drain-source current from terminal voltages and gm \n",
    "        \"\"\"        \n",
    "        if vds is None:\n",
    "            vds = self._terminals_['drain'] - self._terminals_['source']\n",
    "        else:\n",
    "            vds = vds\n",
    "        if vgs is None:\n",
    "            vgs = self._terminals_['gate'] - self._terminals_['source']\n",
    "        else:\n",
    "            vgs = vgs\n",
    "        \n",
    "        vth = self._params_['Vth']\n",
    "        state = self.determine_state(vgs=vgs)\n",
    "        self._state_ = state\n",
    "        \n",
    "        if state=='ON':\n",
    "            if vds <= vgs - vth:\n",
    "                ids = self._params_['gm']*(vgs - vth - (vds/2))*vds\n",
    "            else:\n",
    "                ids = (self._params_['gm']/2)*(vgs-vth)**2\n",
    "            if rounding:\n",
    "                return round(ids,3)\n",
    "            else:\n",
    "                return ids\n",
    "        else:\n",
    "            return sub_vth(w_l=self._params_['gm'],\n",
    "                           vgs=vgs,\n",
    "                           vth=vth)\n",
    "            #return 0.0\n",
    "        \n",
    "    def rdson(self,vgs=None,vds=None):\n",
    "        \"\"\"\n",
    "        Calculates Rdson i.e. on-state resistance of the MOSFET\n",
    "        \"\"\"\n",
    "        if vds is None:\n",
    "            vds = self._terminals_['drain'] - self._terminals_['source']\n",
    "        else:\n",
    "            vds = vds\n",
    "        if vgs is None:\n",
    "            vgs = self._terminals_['gate'] - self._terminals_['source']\n",
    "        else:\n",
    "            vgs = vgs\n",
    "        \n",
    "        ids = self.id_vd(vgs=vgs,vds=vds,rounding=False)\n",
    "        vds_delta = vds+0.001\n",
    "        ids_delta = self.id_vd(vgs=vgs,vds=vds_delta,rounding=False)\n",
    "        rdson = 0.001/(ids_delta-ids)\n",
    "        \n",
    "        return round(rdson,3)\n",
    "        \n",
    "    def train_leakage(self,data=None,\n",
    "                      batch_size=5,\n",
    "                      epochs=20,\n",
    "                      learning_rate=2e-5,\n",
    "                      verbose=1):\n",
    "        \"\"\"\n",
    "        Trains the digital twin for leakage current model with experimental data\n",
    "        Args:\n",
    "            data: The training data, expected as a Pandas DataFrame\n",
    "            batch_size (int): Training batch size\n",
    "            epochs (int): Number of epochs for training\n",
    "            learning_rate (float): Learning rate for training\n",
    "            verbose (0 or 1): Verbosity of display while training\n",
    "        \"\"\"\n",
    "        if data is None:\n",
    "            return \"No data to train with\"\n",
    "        X_train_scaled, X_test_scaled, \\\n",
    "        y_train_scaled, y_test_scaled = prepare_data(data,\n",
    "                                             input_cols=['w_l','vgs','vth'],\n",
    "                                             output_var='log-leakage',\n",
    "                                                     scaley=False)\n",
    "        # Deep-learning model\n",
    "        model = build_model(num_layers=3,\n",
    "                            architecture=[32,32,32],\n",
    "                            input_dim=3)\n",
    "        # Compile and train\n",
    "        model_trained = compile_train_model(model,\n",
    "                                            X_train_scaled,\n",
    "                                            y_train_scaled,\n",
    "                                            batch_size=batch_size,\n",
    "                                            epochs=epochs,\n",
    "                                            learning_rate=learning_rate,\n",
    "                                            verbose=verbose)\n",
    "        self.leakage_model = model_trained\n",
    "        self._leakage_ = True\n",
    "    \n",
    "    def leakage(self,\n",
    "                w_l=1e-2,\n",
    "                vgs=None,\n",
    "                vth=None):\n",
    "        \"\"\"\n",
    "        Calculates leakage current using the deep learning model\n",
    "        \"\"\"\n",
    "        if not self._leakage_:\n",
    "            return \"Leakage model is not trained yet\"\n",
    "        # Vgs\n",
    "        if vgs is None:\n",
    "            vgs = self._terminals_['gate'] - self._terminals_['source']\n",
    "        else:\n",
    "            vgs = vgs\n",
    "        # Vth\n",
    "        if vth is None:\n",
    "            vth = self._params_['Vth']\n",
    "        else:\n",
    "            vth = vth\n",
    "        # Predict\n",
    "        x = np.array([w_l,vgs,vth])\n",
    "        ip = x.reshape(-1,3)\n",
    "        result = float(10**(-self.leakage_model.predict(ip)))\n",
    "        \n",
    "        return result"
   ]
  },
  {
   "cell_type": "markdown",
   "id": "ba120367-d77a-4976-aa9e-a37136b4d1af",
   "metadata": {},
   "source": [
    "## A `MOSFET` object"
   ]
  },
  {
   "cell_type": "code",
   "execution_count": 42,
   "id": "5ddd78a7-1326-4a2d-aaac-35346ff85f3c",
   "metadata": {},
   "outputs": [],
   "source": [
    "mosfet = MOSFET()"
   ]
  },
  {
   "cell_type": "code",
   "execution_count": 43,
   "id": "938541a1-4cbe-4e28-bb9a-e95c95a7571b",
   "metadata": {},
   "outputs": [
    {
     "data": {
      "text/plain": [
       "Digital Twin of a MOSFET"
      ]
     },
     "execution_count": 43,
     "metadata": {},
     "output_type": "execute_result"
    }
   ],
   "source": [
    "mosfet"
   ]
  },
  {
   "cell_type": "code",
   "execution_count": 44,
   "id": "d5289b4e-e3b2-4ee5-837f-ccc0aae2aea5",
   "metadata": {},
   "outputs": [
    {
     "data": {
      "text/plain": [
       "'OFF'"
      ]
     },
     "execution_count": 44,
     "metadata": {},
     "output_type": "execute_result"
    }
   ],
   "source": [
    "mosfet._state_"
   ]
  },
  {
   "cell_type": "code",
   "execution_count": 45,
   "id": "7d0d5b42-1372-43d0-9e04-f88f15d5ce91",
   "metadata": {},
   "outputs": [
    {
     "data": {
      "text/plain": [
       "{'BV': 20, 'Vth': 1.0, 'gm': 0.01}"
      ]
     },
     "execution_count": 45,
     "metadata": {},
     "output_type": "execute_result"
    }
   ],
   "source": [
    "mosfet._params_"
   ]
  },
  {
   "cell_type": "markdown",
   "id": "330b4dea-a96c-4057-8ff7-0c0aebfa56d9",
   "metadata": {},
   "source": [
    "## Object state changes as terminal voltage assignment varies"
   ]
  },
  {
   "cell_type": "code",
   "execution_count": 46,
   "id": "82b2500a-57b5-4816-bb92-9f87ac24a663",
   "metadata": {},
   "outputs": [],
   "source": [
    "mosfet = MOSFET(terminals={'source':0.0,\n",
    "            'drain':0.0,\n",
    "            'gate':2.0}, \n",
    "           params={'BV':20,\n",
    "                   'Vth':1.0,\n",
    "                   'gm':1e-2})"
   ]
  },
  {
   "cell_type": "code",
   "execution_count": 47,
   "id": "30d4dde2-9653-4007-a746-39a05b0cc5fb",
   "metadata": {},
   "outputs": [
    {
     "data": {
      "text/plain": [
       "'ON'"
      ]
     },
     "execution_count": 47,
     "metadata": {},
     "output_type": "execute_result"
    }
   ],
   "source": [
    "mosfet._state_"
   ]
  },
  {
   "cell_type": "code",
   "execution_count": 48,
   "id": "7d874141-5ef5-49d4-b23d-204fe4eecbf3",
   "metadata": {},
   "outputs": [],
   "source": [
    "mosfet = MOSFET(terminals={'source':0.0,\n",
    "            'drain':0.0,\n",
    "            'gate':0.7},\n",
    "            params={'BV':20,\n",
    "                   'Vth':1.0,\n",
    "                   'gm':1e-2})"
   ]
  },
  {
   "cell_type": "code",
   "execution_count": 49,
   "id": "a8a0ac93-370e-4262-8701-c5c7fc0803f7",
   "metadata": {},
   "outputs": [
    {
     "data": {
      "text/plain": [
       "'OFF'"
      ]
     },
     "execution_count": 49,
     "metadata": {},
     "output_type": "execute_result"
    }
   ],
   "source": [
    "mosfet._state_"
   ]
  },
  {
   "cell_type": "markdown",
   "id": "e127c407-15ac-4b0e-92cd-8de948d001da",
   "metadata": {},
   "source": [
    "## Id-Vd"
   ]
  },
  {
   "cell_type": "code",
   "execution_count": 12,
   "id": "b1916766-e8d4-479e-8293-c1f373e79d45",
   "metadata": {},
   "outputs": [
    {
     "data": {
      "text/plain": [
       "8.631306143537147e-14"
      ]
     },
     "execution_count": 12,
     "metadata": {},
     "output_type": "execute_result"
    }
   ],
   "source": [
    "m.id_vd(vgs=0.2,vds=2.0)"
   ]
  },
  {
   "cell_type": "code",
   "execution_count": 13,
   "id": "0a9251ef-df26-414e-aeb5-c06f7e71ecab",
   "metadata": {},
   "outputs": [
    {
     "data": {
      "text/plain": [
       "0.009"
      ]
     },
     "execution_count": 13,
     "metadata": {},
     "output_type": "execute_result"
    }
   ],
   "source": [
    "m.id_vd(vgs=3.0,vds=0.5)"
   ]
  },
  {
   "cell_type": "code",
   "execution_count": 14,
   "id": "37011527-c16b-41c2-910d-bf747db26a65",
   "metadata": {},
   "outputs": [
    {
     "data": {
      "text/plain": [
       "0.015"
      ]
     },
     "execution_count": 14,
     "metadata": {},
     "output_type": "execute_result"
    }
   ],
   "source": [
    "m.id_vd(vgs=3.0,vds=1.0)"
   ]
  },
  {
   "cell_type": "code",
   "execution_count": 15,
   "id": "d65a680e-606e-4139-8531-32885031837e",
   "metadata": {},
   "outputs": [
    {
     "data": {
      "text/plain": [
       "0.02"
      ]
     },
     "execution_count": 15,
     "metadata": {},
     "output_type": "execute_result"
    }
   ],
   "source": [
    "m.id_vd(vgs=3.0,vds=3.0)"
   ]
  },
  {
   "cell_type": "code",
   "execution_count": 16,
   "id": "e31cd2aa-ee63-43b7-b209-f484c52d4cae",
   "metadata": {},
   "outputs": [
    {
     "data": {
      "text/plain": [
       "0.02"
      ]
     },
     "execution_count": 16,
     "metadata": {},
     "output_type": "execute_result"
    }
   ],
   "source": [
    "m.id_vd(vgs=3.0,vds=4.0)"
   ]
  },
  {
   "cell_type": "code",
   "execution_count": 17,
   "id": "274e3726-4d2f-4a60-9af7-a1b55248d386",
   "metadata": {},
   "outputs": [
    {
     "data": {
      "text/plain": [
       "'ON'"
      ]
     },
     "execution_count": 17,
     "metadata": {},
     "output_type": "execute_result"
    }
   ],
   "source": [
    "m._state_"
   ]
  },
  {
   "cell_type": "code",
   "execution_count": 18,
   "id": "495ce6c1-7eaf-4ee6-86be-9e6b6aeae709",
   "metadata": {},
   "outputs": [
    {
     "data": {
      "text/plain": [
       "66.689"
      ]
     },
     "execution_count": 18,
     "metadata": {},
     "output_type": "execute_result"
    }
   ],
   "source": [
    "m.rdson(vgs=3.0,vds=0.5)"
   ]
  },
  {
   "cell_type": "code",
   "execution_count": 19,
   "id": "d48f7296-08f1-471f-9503-570c9a582a99",
   "metadata": {},
   "outputs": [
    {
     "data": {
      "text/plain": [
       "71.454"
      ]
     },
     "execution_count": 19,
     "metadata": {},
     "output_type": "execute_result"
    }
   ],
   "source": [
    "m.rdson(vgs=3.0,vds=0.6)"
   ]
  },
  {
   "cell_type": "code",
   "execution_count": 20,
   "id": "094d1a06-bad8-45a0-a235-07c349651aac",
   "metadata": {},
   "outputs": [
    {
     "data": {
      "text/plain": [
       "40.008"
      ]
     },
     "execution_count": 20,
     "metadata": {},
     "output_type": "execute_result"
    }
   ],
   "source": [
    "m.rdson(vgs=5.0,vds=1.5)"
   ]
  },
  {
   "cell_type": "code",
   "execution_count": 21,
   "id": "af6d9861-f7dc-455b-bf84-f3bd7457c4a5",
   "metadata": {},
   "outputs": [],
   "source": [
    "ids = []\n",
    "mosfet = MOSFET()\n",
    "vds_vals = [0.01*i for i in range(1,501)]\n",
    "for v in vds_vals:\n",
    "    ids.append(mosfet.id_vd(vgs=3.0,vds=v,rounding=False))"
   ]
  },
  {
   "cell_type": "code",
   "execution_count": 22,
   "id": "971fce0d-59f6-43fa-92f0-9115cf240fa9",
   "metadata": {},
   "outputs": [
    {
     "data": {
      "image/png": "[encoded data removed]",
      "text/plain": [
       "<Figure size 720x480 with 1 Axes>"
      ]
     },
     "metadata": {
      "needs_background": "light"
     },
     "output_type": "display_data"
    }
   ],
   "source": [
    "plt.figure(dpi=120)\n",
    "plt.plot(vds_vals,ids)\n",
    "plt.xlabel(\"Vds (V)\",fontsize=15)\n",
    "plt.ylabel(\"Ids (A)\",fontsize=15)\n",
    "plt.show()"
   ]
  },
  {
   "cell_type": "code",
   "execution_count": 23,
   "id": "be30d2ff-60e0-4ec9-9074-00167a364aea",
   "metadata": {},
   "outputs": [
    {
     "data": {
      "image/png": "[encoded data removed]",
      "text/plain": [
       "<Figure size 720x480 with 1 Axes>"
      ]
     },
     "metadata": {
      "needs_background": "light"
     },
     "output_type": "display_data"
    }
   ],
   "source": [
    "m = MOSFET()\n",
    "plt.figure(dpi=120)\n",
    "for vgs in [0.5,0.9,1.5,2.0,2.5]:\n",
    "    ids = []\n",
    "    vds_vals = [0.01*i for i in range(1,501)]\n",
    "    for v in vds_vals:\n",
    "        ids.append(m.id_vd(vgs=vgs,vds=v,rounding=False))\n",
    "    plt.plot(vds_vals,ids)\n",
    "plt.legend([\"Vgs = \"+str(v) for v in [0.5,0.9,1.5,2.0,2.5]])\n",
    "plt.xlabel(\"Vds (V)\",fontsize=15)\n",
    "plt.ylabel(\"Ids (A)\",fontsize=15)\n",
    "plt.show()"
   ]
  },
  {
   "cell_type": "markdown",
   "id": "0f82806f-e980-49d1-afde-9b19fb183c7a",
   "metadata": {},
   "source": [
    "## Sub-Vth leakage"
   ]
  },
  {
   "cell_type": "code",
   "execution_count": 24,
   "id": "1e414fc8-be14-46b7-86d1-67c85b8648f3",
   "metadata": {},
   "outputs": [
    {
     "data": {
      "text/plain": [
       "'No data to train with'"
      ]
     },
     "execution_count": 24,
     "metadata": {},
     "output_type": "execute_result"
    }
   ],
   "source": [
    "m.train_leakage()"
   ]
  },
  {
   "cell_type": "code",
   "execution_count": 25,
   "id": "b1600ccd-9480-4700-9aa8-46f34dcea812",
   "metadata": {},
   "outputs": [
    {
     "data": {
      "image/png": "[encoded data removed]",
      "text/plain": [
       "<Figure size 432x288 with 1 Axes>"
      ]
     },
     "metadata": {
      "needs_background": "light"
     },
     "output_type": "display_data"
    }
   ],
   "source": [
    "sub = []\n",
    "for i in range(100):\n",
    "    sub.append(sub_vth(w_l=1e-2,vgs=0.5,vth=1.0))\n",
    "\n",
    "plt.hist(sub,edgecolor='k')\n",
    "plt.show()"
   ]
  },
  {
   "cell_type": "code",
   "execution_count": 26,
   "id": "831c2848-f152-4f11-9dfb-949b56a0b674",
   "metadata": {},
   "outputs": [
    {
     "data": {
      "image/png": "[encoded data removed]",
      "text/plain": [
       "<Figure size 432x288 with 1 Axes>"
      ]
     },
     "metadata": {
      "needs_background": "light"
     },
     "output_type": "display_data"
    }
   ],
   "source": [
    "sub = []\n",
    "vgs = []\n",
    "for i in range(100):\n",
    "    sub.append(sub_vth(w_l=1e-2,vgs=i*0.01,vth=1.0))\n",
    "    vgs.append(i*0.01)\n",
    "\n",
    "plt.semilogy(vgs,sub)\n",
    "plt.show()"
   ]
  },
  {
   "cell_type": "markdown",
   "id": "26c5aed7-bbbd-4048-825a-1ddb482d2ac2",
   "metadata": {},
   "source": [
    "### Synthetic leakage data"
   ]
  },
  {
   "cell_type": "code",
   "execution_count": 27,
   "id": "e188e247-f6b2-463e-8f2d-556af5afbb21",
   "metadata": {},
   "outputs": [],
   "source": [
    "from itertools import product"
   ]
  },
  {
   "cell_type": "code",
   "execution_count": 28,
   "id": "f55a9b8f-0200-482d-a636-d17c03ffd584",
   "metadata": {},
   "outputs": [],
   "source": [
    "w_l_list = [1e-3*i for i in range(1,21)]\n",
    "vgs_list = [0.01*i for i in range(1,91)]\n",
    "vth_list = [0.05*i for i in range(21,31)]"
   ]
  },
  {
   "cell_type": "code",
   "execution_count": 29,
   "id": "37f31a79-d308-4aee-8441-b2bcaf431b2b",
   "metadata": {},
   "outputs": [],
   "source": [
    "comb = list(product(w_l_list,vgs_list,vth_list))"
   ]
  },
  {
   "cell_type": "code",
   "execution_count": 30,
   "id": "70b45002-6271-4dec-b1e2-ffa9e177c51a",
   "metadata": {},
   "outputs": [],
   "source": [
    "data_dict = {'w_l':[],'vgs':[],'vth':[],'sub-vth':[]}\n",
    "for c in comb:\n",
    "    data_dict['w_l'].append(c[0])\n",
    "    data_dict['vgs'].append(c[1])\n",
    "    data_dict['vth'].append(c[2])\n",
    "    data_dict['sub-vth'].append(sub_vth(c[0],c[1],c[2]))"
   ]
  },
  {
   "cell_type": "code",
   "execution_count": 31,
   "id": "895de17b-86ce-4717-8620-0645e0e8dcff",
   "metadata": {},
   "outputs": [],
   "source": [
    "df = pd.DataFrame(data=data_dict,columns=['w_l','vgs','vth','sub-vth'])"
   ]
  },
  {
   "cell_type": "code",
   "execution_count": 32,
   "id": "015afa45-3f11-4dae-be36-5ca87674cb7a",
   "metadata": {},
   "outputs": [
    {
     "data": {
      "text/html": [
       "<div>\n",
       "<style scoped>\n",
       "    .dataframe tbody tr th:only-of-type {\n",
       "        vertical-align: middle;\n",
       "    }\n",
       "\n",
       "    .dataframe tbody tr th {\n",
       "        vertical-align: top;\n",
       "    }\n",
       "\n",
       "    .dataframe thead th {\n",
       "        text-align: right;\n",
       "    }\n",
       "</style>\n",
       "<table border=\"1\" class=\"dataframe\">\n",
       "  <thead>\n",
       "    <tr style=\"text-align: right;\">\n",
       "      <th></th>\n",
       "      <th>5892</th>\n",
       "      <th>3783</th>\n",
       "      <th>7666</th>\n",
       "      <th>136</th>\n",
       "      <th>5468</th>\n",
       "      <th>16393</th>\n",
       "      <th>5554</th>\n",
       "    </tr>\n",
       "  </thead>\n",
       "  <tbody>\n",
       "    <tr>\n",
       "      <th>w_l</th>\n",
       "      <td>7.000000e-03</td>\n",
       "      <td>5.000000e-03</td>\n",
       "      <td>9.000000e-03</td>\n",
       "      <td>1.000000e-03</td>\n",
       "      <td>7.000000e-03</td>\n",
       "      <td>1.900000e-02</td>\n",
       "      <td>7.000000e-03</td>\n",
       "    </tr>\n",
       "    <tr>\n",
       "      <th>vgs</th>\n",
       "      <td>5.000000e-01</td>\n",
       "      <td>1.900000e-01</td>\n",
       "      <td>4.700000e-01</td>\n",
       "      <td>1.400000e-01</td>\n",
       "      <td>7.000000e-02</td>\n",
       "      <td>2.000000e-01</td>\n",
       "      <td>1.600000e-01</td>\n",
       "    </tr>\n",
       "    <tr>\n",
       "      <th>vth</th>\n",
       "      <td>1.150000e+00</td>\n",
       "      <td>1.200000e+00</td>\n",
       "      <td>1.350000e+00</td>\n",
       "      <td>1.350000e+00</td>\n",
       "      <td>1.450000e+00</td>\n",
       "      <td>1.200000e+00</td>\n",
       "      <td>1.250000e+00</td>\n",
       "    </tr>\n",
       "    <tr>\n",
       "      <th>sub-vth</th>\n",
       "      <td>5.072962e-12</td>\n",
       "      <td>2.015358e-17</td>\n",
       "      <td>4.347818e-15</td>\n",
       "      <td>1.319075e-20</td>\n",
       "      <td>5.576009e-22</td>\n",
       "      <td>2.364681e-16</td>\n",
       "      <td>4.487012e-18</td>\n",
       "    </tr>\n",
       "  </tbody>\n",
       "</table>\n",
       "</div>"
      ],
      "text/plain": [
       "                5892          3783          7666          136           5468   \\\n",
       "w_l      7.000000e-03  5.000000e-03  9.000000e-03  1.000000e-03  7.000000e-03   \n",
       "vgs      5.000000e-01  1.900000e-01  4.700000e-01  1.400000e-01  7.000000e-02   \n",
       "vth      1.150000e+00  1.200000e+00  1.350000e+00  1.350000e+00  1.450000e+00   \n",
       "sub-vth  5.072962e-12  2.015358e-17  4.347818e-15  1.319075e-20  5.576009e-22   \n",
       "\n",
       "                16393         5554   \n",
       "w_l      1.900000e-02  7.000000e-03  \n",
       "vgs      2.000000e-01  1.600000e-01  \n",
       "vth      1.200000e+00  1.250000e+00  \n",
       "sub-vth  2.364681e-16  4.487012e-18  "
      ]
     },
     "execution_count": 32,
     "metadata": {},
     "output_type": "execute_result"
    }
   ],
   "source": [
    "df.sample(7).T"
   ]
  },
  {
   "cell_type": "code",
   "execution_count": 33,
   "id": "782e6934-1a20-48f0-b619-b79ac2f72ebf",
   "metadata": {},
   "outputs": [],
   "source": [
    "df['log-leakage'] = -np.log10(df['sub-vth'])"
   ]
  },
  {
   "cell_type": "markdown",
   "id": "e610aacd-b4c5-4035-a7e2-24ddd5d74414",
   "metadata": {},
   "source": [
    "## Training leakage model"
   ]
  },
  {
   "cell_type": "code",
   "execution_count": 34,
   "id": "044badd8-c358-4dc3-bb8b-8740c55e7d2e",
   "metadata": {},
   "outputs": [
    {
     "name": "stderr",
     "output_type": "stream",
     "text": [
      "C:\\Program Files\\Python39\\lib\\site-packages\\keras\\optimizer_v2\\adam.py:105: UserWarning: The `lr` argument is deprecated, use `learning_rate` instead.\n",
      "  super(Adam, self).__init__(name, **kwargs)\n"
     ]
    },
    {
     "name": "stdout",
     "output_type": "stream",
     "text": [
      "Epoch 1/20\n",
      "2520/2520 [==============================] - 3s 1ms/step - loss: 177.6796 - mse: 177.6796\n",
      "Epoch 2/20\n",
      "2520/2520 [==============================] - 3s 1ms/step - loss: 74.2075 - mse: 74.2075\n",
      "Epoch 3/20\n",
      "2520/2520 [==============================] - 3s 1ms/step - loss: 26.5780 - mse: 26.5780\n",
      "Epoch 4/20\n",
      "2520/2520 [==============================] - 3s 1ms/step - loss: 15.9009 - mse: 15.9009\n",
      "Epoch 5/20\n",
      "2520/2520 [==============================] - 3s 1ms/step - loss: 11.2300 - mse: 11.2300A: 0s - loss: 11.5155\n",
      "Epoch 6/20\n",
      "2520/2520 [==============================] - 3s 1ms/step - loss: 8.7529 - mse: 8.7529\n",
      "Epoch 7/20\n",
      "2520/2520 [==============================] - 3s 1ms/step - loss: 6.5500 - mse: 6.5500\n",
      "Epoch 8/20\n",
      "2520/2520 [==============================] - 3s 1ms/step - loss: 4.3082 - mse: 4.3082\n",
      "Epoch 9/20\n",
      "2520/2520 [==============================] - 3s 1ms/step - loss: 2.2950 - mse: 2.2950\n",
      "Epoch 10/20\n",
      "2520/2520 [==============================] - 3s 1ms/step - loss: 0.8292 - mse: 0.8292\n",
      "Epoch 11/20\n",
      "2520/2520 [==============================] - 3s 1ms/step - loss: 0.1616 - mse: 0.1616\n",
      "Epoch 12/20\n",
      "2520/2520 [==============================] - 3s 1ms/step - loss: 0.0502 - mse: 0.0502\n",
      "Epoch 13/20\n",
      "2520/2520 [==============================] - 3s 1ms/step - loss: 0.0328 - mse: 0.0328\n",
      "Epoch 14/20\n",
      "2520/2520 [==============================] - 3s 1ms/step - loss: 0.0263 - mse: 0.0263\n",
      "Epoch 15/20\n",
      "2520/2520 [==============================] - 3s 1ms/step - loss: 0.0235 - mse: 0.0235A - ETA: 0s - loss: 0.0237 - \n",
      "Epoch 16/20\n",
      "2520/2520 [==============================] - 3s 1ms/step - loss: 0.0220 - mse: 0.0220\n",
      "Epoch 17/20\n",
      "2520/2520 [==============================] - 3s 1ms/step - loss: 0.0211 - mse: 0.0211\n",
      "Epoch 18/20\n",
      "2520/2520 [==============================] - 3s 1ms/step - loss: 0.0204 - mse: 0.0204\n",
      "Epoch 19/20\n",
      "2520/2520 [==============================] - 3s 1ms/step - loss: 0.0198 - mse: 0.0198\n",
      "Epoch 20/20\n",
      "2520/2520 [==============================] - 3s 1ms/step - loss: 0.0194 - mse: 0.0194A: 1s - loss: 0.0195 - mse: 0.01 - ETA: 1s - lo\n"
     ]
    }
   ],
   "source": [
    "mosfet.train_leakage(df)"
   ]
  },
  {
   "cell_type": "code",
   "execution_count": 35,
   "id": "bd7b0ca5-986d-4e81-9e88-652d95a87ee5",
   "metadata": {},
   "outputs": [],
   "source": [
    "m1_trained = m.leakage_model"
   ]
  },
  {
   "cell_type": "code",
   "execution_count": 36,
   "id": "7f41a5ef-8759-4bec-8e7a-830e87590a62",
   "metadata": {},
   "outputs": [
    {
     "data": {
      "image/png": "[encoded data removed]",
      "text/plain": [
       "<Figure size 432x288 with 1 Axes>"
      ]
     },
     "metadata": {
      "needs_background": "light"
     },
     "output_type": "display_data"
    }
   ],
   "source": [
    "plt.plot(np.sqrt(m1_trained.history.history['mse']))\n",
    "plt.show()"
   ]
  },
  {
   "cell_type": "code",
   "execution_count": 37,
   "id": "d4cfabc1-314a-4b65-a222-08c30143c964",
   "metadata": {},
   "outputs": [
    {
     "data": {
      "text/plain": [
       "3.1557569958786463e-24"
      ]
     },
     "execution_count": 37,
     "metadata": {},
     "output_type": "execute_result"
    }
   ],
   "source": [
    "m.leakage()"
   ]
  },
  {
   "cell_type": "code",
   "execution_count": 38,
   "id": "0e71afe1-76d4-4167-be39-c88b49a1aebd",
   "metadata": {},
   "outputs": [
    {
     "data": {
      "text/plain": [
       "7.728817348758802e-15"
      ]
     },
     "execution_count": 38,
     "metadata": {},
     "output_type": "execute_result"
    }
   ],
   "source": [
    "m.leakage(w_l=1e-1,vgs=0.75)"
   ]
  },
  {
   "cell_type": "code",
   "execution_count": 39,
   "id": "332077bf-51d3-450d-93e7-44c38242d76f",
   "metadata": {},
   "outputs": [],
   "source": [
    "m._terminals_['gate']=0.8"
   ]
  },
  {
   "cell_type": "code",
   "execution_count": 40,
   "id": "03d11fdf-4ea6-40e9-9c50-812a12523520",
   "metadata": {},
   "outputs": [
    {
     "data": {
      "text/plain": [
       "2.678188888109029e-13"
      ]
     },
     "execution_count": 40,
     "metadata": {},
     "output_type": "execute_result"
    }
   ],
   "source": [
    "m.leakage(w_l=1)"
   ]
  },
  {
   "cell_type": "code",
   "execution_count": 41,
   "id": "a85b6649-0289-41bd-a402-12d9173aab8e",
   "metadata": {},
   "outputs": [
    {
     "data": {
      "image/png": "[encoded data removed]",
      "text/plain": [
       "<Figure size 432x288 with 1 Axes>"
      ]
     },
     "metadata": {
      "needs_background": "light"
     },
     "output_type": "display_data"
    }
   ],
   "source": [
    "sub = []\n",
    "vgs = []\n",
    "for i in range(100):\n",
    "    sub.append(m.leakage(w_l=1e-2,vgs=i*0.01,vth=1.0))\n",
    "    vgs.append(i*0.01)\n",
    "\n",
    "plt.semilogy(vgs,sub)\n",
    "plt.show()"
   ]
  },
  {
   "cell_type": "code",
   "execution_count": null,
   "id": "d8281c32-4f94-48ae-9847-a92b4cabe83e",
   "metadata": {},
   "outputs": [],
   "source": [
    "m = MOSFET(terminals={'source':0.0,\n",
    "            'drain':0.0,\n",
    "            'gate':0.7})"
   ]
  },
  {
   "cell_type": "code",
   "execution_count": null,
   "id": "db14d0cf-6941-4fba-b373-1a7dae8971db",
   "metadata": {},
   "outputs": [],
   "source": [
    "m.leakage()"
   ]
  }
 ],
 "metadata": {
  "kernelspec": {
   "display_name": "Python 3",
   "language": "python",
   "name": "python3"
  },
  "language_info": {
   "codemirror_mode": {
    "name": "ipython",
    "version": 3
   },
   "file_extension": ".py",
   "mimetype": "text/x-python",
   "name": "python",
   "nbconvert_exporter": "python",
   "pygments_lexer": "ipython3",
   "version": "3.9.4"
  }
 },
 "nbformat": 4,
 "nbformat_minor": 5
}
